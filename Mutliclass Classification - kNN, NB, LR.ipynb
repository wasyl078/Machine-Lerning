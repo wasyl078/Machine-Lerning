{
 "cells": [
  {
   "cell_type": "markdown",
   "metadata": {},
   "source": [
    "## Multiclass Classification\n",
    "### First method: k-nearest neighbours (kNN)\n",
    "### Second method: Naive Bayess\n",
    "### Third method: Logistic Regression + Gradient Descent + Regularization"
   ]
  },
  {
   "cell_type": "markdown",
   "metadata": {},
   "source": [
    "### Imports"
   ]
  },
  {
   "cell_type": "code",
   "execution_count": 1,
   "metadata": {},
   "outputs": [],
   "source": [
    "import numpy as np\n",
    "import matplotlib.pyplot as plt\n",
    "import unittest\n",
    "import math\n",
    "import sys\n",
    "import random\n",
    "import time"
   ]
  },
  {
   "cell_type": "markdown",
   "metadata": {},
   "source": [
    "### Time Counting Method"
   ]
  },
  {
   "cell_type": "code",
   "execution_count": 2,
   "metadata": {},
   "outputs": [],
   "source": [
    "def count_time(f, param_1, param_2, name):  \n",
    "    start = time.perf_counter()\n",
    "    res = f(param_1, param_2)\n",
    "    total = time.perf_counter() - start\n",
    "    print(f\"Time for: {name} => {total}s\")\n",
    "    return res"
   ]
  },
  {
   "cell_type": "markdown",
   "metadata": {},
   "source": [
    "### Data generatar"
   ]
  },
  {
   "cell_type": "code",
   "execution_count": 3,
   "metadata": {},
   "outputs": [],
   "source": [
    "# all data\n",
    "def standard_data_generator(N, noise):\n",
    "    labels = np.array([[1]]*N + [[2]]*N + [[3]]*N + [[4]]*N)\n",
    "    data = [random_data(1.5, noise, N), random_data(1.5, noise, N), \n",
    "            random_data(0.5, noise, N), random_data(1.5, noise, N),\n",
    "            random_data(0.5, noise, N), random_data(0.5, noise, N),\n",
    "            random_data(1.5, noise, N), random_data(0.5, noise, N)]\n",
    "    conc_data_x1 = np.concatenate([d for d in data[::2]])\n",
    "    conc_data_x2 = np.concatenate([d for d in data[1::2]])\n",
    "    return {'x1': conc_data_x1, 'x2':conc_data_x2, 'y': labels}\n",
    "    \n",
    "def random_data(a, noise, N):\n",
    "    rng = random.uniform(noise/2, noise)\n",
    "    data = np.random.uniform(a - rng, a + rng, size = N)\n",
    "    return np.array([[d] for d in data])\n",
    "\n",
    "def totally_random_data_generator(N):\n",
    "    data_x1 = np.random.uniform(0.1, 1.9,size = N)\n",
    "    data_x2 = np.random.uniform(0.1, 1.9,size = N)\n",
    "    return {'x1': data_x1, 'x2': data_x2}"
   ]
  },
  {
   "cell_type": "markdown",
   "metadata": {},
   "source": [
    "### Error function"
   ]
  },
  {
   "cell_type": "code",
   "execution_count": 4,
   "metadata": {},
   "outputs": [],
   "source": [
    "def error_function(distribution, y_labels):\n",
    "    y_labels = y_labels.T[0] - 1\n",
    "    N, M = np.shape(distribution)\n",
    "    res = 0\n",
    "    uniq = np.unique(y_labels).shape[0]\n",
    "    distribution = np.fliplr(distribution)\n",
    "    for n in range(N):\n",
    "        if np.argmax(distribution[n]) != (uniq - 1 - y_labels[n]):\n",
    "            res += 1\n",
    "    return res / N"
   ]
  },
  {
   "cell_type": "markdown",
   "metadata": {},
   "source": [
    "### k-Nearest Neighbours"
   ]
  },
  {
   "cell_type": "code",
   "execution_count": 5,
   "metadata": {},
   "outputs": [],
   "source": [
    "def knn(train_data, val_data):\n",
    "    # data\n",
    "    x1_train = train_data['x1']\n",
    "    x2_train = train_data['x2']\n",
    "    y_train = train_data['y']\n",
    "    x1_val = val_data['x1']\n",
    "    x2_val = val_data['x2']\n",
    "    y_val = val_data['y']\n",
    "    N1 = x1_val.shape[0]\n",
    "    N2 = x1_train.shape[0]\n",
    "    \n",
    "    # model selection\n",
    "    dists = calculate_distance(x1_val, x2_val, x1_train, x2_train)\n",
    "    srt = sort_distances(dists, y_train)\n",
    "    k_values = np.arange(1,N2)\n",
    "    errs = [error_function(calculate_distribution_knn(srt, k), y_val) for k in k_values]\n",
    "    return min(errs), k_values[errs.index(min(errs))], errs, k_values\n",
    "\n",
    "def calculate_distance(x1, x2, x1_train, x2_train):\n",
    "    N1 = np.shape(x1)[0]\n",
    "    N2 = np.shape(x1_train)[0]\n",
    "    dists = np.array([((x1[v, 0] - x1_train)**2 + (x2[v, 0] - x2_train)**2)**(0.5) for v in range(N1)])    \n",
    "    return dists[:,:,0]\n",
    "\n",
    "def sort_distances(dists, y_labels):\n",
    "    return y_labels[dists.argsort(kind='mergesort')][:,:,0]\n",
    "\n",
    "def calculate_distribution_knn(y_labels, k):\n",
    "    M = np.unique(y_labels).shape[0]\n",
    "    res = list()\n",
    "    for line in y_labels:\n",
    "        new_row = [0] * M\n",
    "        for ki in range(k):\n",
    "            buf = line[ki]\n",
    "            new_row[buf-1] += 1 / k\n",
    "        res.append(new_row)\n",
    "    return np.array(res)"
   ]
  },
  {
   "cell_type": "markdown",
   "metadata": {},
   "source": [
    "### Naive Bayess - secret ingredient is gaussian distribution\n",
    "\n",
    "$Y =  \\begin{bmatrix}y^{(0)}\\\\y^{1)}\\\\...\\\\y^{(n-1)}\\end{bmatrix}, X_{1} =  \\begin{bmatrix}x^{(0)}_1\\\\x^{(1)}_1\\\\...\\\\x^{(n-1)}_1\\end{bmatrix}, X_{2} =  \\begin{bmatrix}x^{(0)}_2\\\\x^{(1)}_2\\\\...\\\\x^{(n-1)}_2\\end{bmatrix}$\n",
    "\n",
    "$\\mu_{x,y} =  \\frac{1}{n}  \\sum_{i:y^{(i)} = y}^{} x^{(i)}_i$\n",
    "\n",
    "$\\sigma^2_{x,y} = \\frac{1}{n} \\sum_{i:y^{(i)} = y}(x^{(i)} -  \\mu_{x,y})$\n",
    "\n",
    "$p(x_j | y) = \\frac{1}{\\sqrt{2\\pi \\sigma^2_{x_j,y}}} \\cdot exp-\\frac{1}{2}(\\frac{(x-\\mu_{x_j,y})^2}{\\sigma^2_{x_j,y}})$ for j = 0,...,n-1"
   ]
  },
  {
   "cell_type": "code",
   "execution_count": 6,
   "metadata": {},
   "outputs": [],
   "source": [
    "def a_prioi(y):\n",
    "    N = np.shape(y)[0]\n",
    "    M = np.unique(y).shape[0]\n",
    "    return np.array([(N - np.count_nonzero(y - i)) / N for i in range(1,M+1)])\n",
    "\n",
    "def calculate_means(x1, x2, y, N_val):\n",
    "    N = np.shape(x1)[0]\n",
    "    M = np.unique(y).shape[0]\n",
    "    buf = [[np.mean(x1[np.nonzero(y == m+1)[0], :]), np.mean(x2[np.nonzero(y == m+1)[0], :])] for m in range(M)]\n",
    "    res_single = np.array(buf).T    \n",
    "    return np.tile(res_single, N_val).reshape((2,N_val,M))\n",
    "\n",
    "def calculate_variance(x1, x2, y, N_val):\n",
    "    N = np.shape(x1)[0]\n",
    "    M = np.unique(y).shape[0]\n",
    "    buf = [[np.var(x1[np.nonzero(y == m+1)[0], :]), np.var(x2[np.nonzero(y == m+1)[0], :])] for m in range(M)]\n",
    "    res_single = np.array(buf).T    \n",
    "    return np.tile(res_single, N_val).reshape((2,N_val,M))\n",
    "\n",
    "def gauss(x1, x2, mean, var):\n",
    "    x = np.concatenate((x1, x2), axis=1).T\n",
    "    _, N, M = np.shape(mean)\n",
    "    distribution = np.ones((2,N,M))\n",
    "    for m in range(M):\n",
    "        fst_prt = 1 / (2*math.pi*var[:,:,m])**(0.5)\n",
    "        powerr = -0.5*((x - mean[:,:,m])**2 / var[:,:,m])\n",
    "        snd_prt = np.power(math.e, powerr)\n",
    "        together = fst_prt*snd_prt\n",
    "        distribution[:,:,m] = together\n",
    "    return distribution\n",
    "\n",
    "def p_x_y_nb(guass_distribution):\n",
    "    return np.prod(guass_distribution,axis=0).T\n",
    "\n",
    "def calculate_distribution_nb(apriori, p_x_y):\n",
    "    M, N = p_x_y.shape\n",
    "    numerator =  p_x_y * np.reshape(apriori, (M,1))\n",
    "    denumerator = np.tile(np.sum(numerator,axis=0),M).reshape((M,N)) \n",
    "    return np.divide(numerator, denumerator)\n",
    "\n",
    "def naive_bayess(train_data, val_data):\n",
    "    # data\n",
    "    x1_train = train_data['x1']\n",
    "    x2_train = train_data['x2']\n",
    "    y_train = train_data['y']\n",
    "    x1_val = val_data['x1']\n",
    "    x2_val = val_data['x2']\n",
    "    y_val = val_data['y']\n",
    "    N1 = x1_val.shape[0]\n",
    "    N2 = x1_train.shape[0]\n",
    "    # > learning\n",
    "    apri = a_prioi(y_train)\n",
    "    ms = calculate_means(x1_train, x2_train, y_train, N1)\n",
    "    vs = calculate_variance(x1_train, x2_train, y_train, N1)\n",
    "    # > calculating\n",
    "    gau = gauss(x1_val, x2_val, ms, vs)\n",
    "    p_x_y = p_x_y_nb(gau)\n",
    "    distri = calculate_distribution_nb(apri, p_x_y)\n",
    "    return error_function(distri.T, y_val), distri.T"
   ]
  },
  {
   "cell_type": "markdown",
   "metadata": {},
   "source": [
    "### Logistic Regression + gradient descent"
   ]
  },
  {
   "cell_type": "code",
   "execution_count": 18,
   "metadata": {
    "scrolled": false
   },
   "outputs": [
    {
     "ename": "ValueError",
     "evalue": "matmul: Input operand 0 does not have enough dimensions (has 0, gufunc core with signature (n?,k),(k,m?)->(n?,m?) requires 1)",
     "output_type": "error",
     "traceback": [
      "\u001b[1;31m---------------------------------------------------------------------------\u001b[0m",
      "\u001b[1;31mValueError\u001b[0m                                Traceback (most recent call last)",
      "\u001b[1;32m<ipython-input-18-b97a6c13bc88>\u001b[0m in \u001b[0;36m<module>\u001b[1;34m\u001b[0m\n\u001b[0;32m     96\u001b[0m \u001b[0mN_v\u001b[0m \u001b[1;33m=\u001b[0m \u001b[1;36m20\u001b[0m\u001b[1;33m\u001b[0m\u001b[0m\n\u001b[0;32m     97\u001b[0m \u001b[0mN_t\u001b[0m \u001b[1;33m=\u001b[0m \u001b[1;36m1000\u001b[0m\u001b[1;33m\u001b[0m\u001b[0m\n\u001b[1;32m---> 98\u001b[1;33m \u001b[0mlogistic_regression\u001b[0m\u001b[1;33m(\u001b[0m\u001b[0mstandard_data_generator\u001b[0m\u001b[1;33m(\u001b[0m\u001b[0mN_t\u001b[0m\u001b[1;33m,\u001b[0m \u001b[1;36m0.7\u001b[0m\u001b[1;33m)\u001b[0m\u001b[1;33m,\u001b[0m \u001b[0mstandard_data_generator\u001b[0m\u001b[1;33m(\u001b[0m\u001b[0mN_v\u001b[0m\u001b[1;33m,\u001b[0m \u001b[1;36m0.6\u001b[0m\u001b[1;33m)\u001b[0m\u001b[1;33m)\u001b[0m\u001b[1;33m\u001b[0m\u001b[0m\n\u001b[0m\u001b[0;32m     99\u001b[0m \u001b[1;33m\u001b[0m\u001b[0m\n",
      "\u001b[1;32m<ipython-input-18-b97a6c13bc88>\u001b[0m in \u001b[0;36mlogistic_regression\u001b[1;34m(train_data, val_data)\u001b[0m\n\u001b[0;32m     59\u001b[0m     \u001b[0mN1\u001b[0m \u001b[1;33m=\u001b[0m \u001b[0mx1_val\u001b[0m\u001b[1;33m.\u001b[0m\u001b[0mshape\u001b[0m\u001b[1;33m[\u001b[0m\u001b[1;36m0\u001b[0m\u001b[1;33m]\u001b[0m\u001b[1;33m\u001b[0m\u001b[0m\n\u001b[0;32m     60\u001b[0m     \u001b[0mN2\u001b[0m \u001b[1;33m=\u001b[0m \u001b[0mx1_train\u001b[0m\u001b[1;33m.\u001b[0m\u001b[0mshape\u001b[0m\u001b[1;33m[\u001b[0m\u001b[1;36m0\u001b[0m\u001b[1;33m]\u001b[0m\u001b[1;33m\u001b[0m\u001b[0m\n\u001b[1;32m---> 61\u001b[1;33m     \u001b[0mmodel_selection_lr\u001b[0m\u001b[1;33m(\u001b[0m\u001b[0mx_train\u001b[0m\u001b[1;33m,\u001b[0m \u001b[0my_train\u001b[0m\u001b[1;33m,\u001b[0m \u001b[0mx_val\u001b[0m\u001b[1;33m,\u001b[0m \u001b[0my_val\u001b[0m\u001b[1;33m)\u001b[0m\u001b[1;33m\u001b[0m\u001b[0m\n\u001b[0m\u001b[0;32m     62\u001b[0m \u001b[1;33m\u001b[0m\u001b[0m\n\u001b[0;32m     63\u001b[0m \u001b[1;32mdef\u001b[0m \u001b[0mmodel_selection_lr\u001b[0m\u001b[1;33m(\u001b[0m\u001b[0mx_train\u001b[0m\u001b[1;33m,\u001b[0m \u001b[0my_train\u001b[0m\u001b[1;33m,\u001b[0m \u001b[0mx_val\u001b[0m\u001b[1;33m,\u001b[0m \u001b[0my_val\u001b[0m\u001b[1;33m)\u001b[0m\u001b[1;33m:\u001b[0m\u001b[1;33m\u001b[0m\u001b[0m\n",
      "\u001b[1;32m<ipython-input-18-b97a6c13bc88>\u001b[0m in \u001b[0;36mmodel_selection_lr\u001b[1;34m(x_train, y_train, x_val, y_val)\u001b[0m\n\u001b[0;32m     78\u001b[0m             \u001b[0mbuf_ys\u001b[0m \u001b[1;33m=\u001b[0m \u001b[0my_train\u001b[0m\u001b[1;33m[\u001b[0m\u001b[0mtr_ix\u001b[0m\u001b[1;33m,\u001b[0m\u001b[1;33m:\u001b[0m\u001b[1;33m]\u001b[0m\u001b[1;33m\u001b[0m\u001b[0m\n\u001b[0;32m     79\u001b[0m             \u001b[0mbuf_ys\u001b[0m\u001b[1;33m[\u001b[0m\u001b[0mbuf_ys\u001b[0m \u001b[1;33m>\u001b[0m \u001b[1;36m0\u001b[0m\u001b[1;33m]\u001b[0m \u001b[1;33m=\u001b[0m \u001b[1;36m1\u001b[0m\u001b[1;33m\u001b[0m\u001b[0m\n\u001b[1;32m---> 80\u001b[1;33m             \u001b[0mnew_theta\u001b[0m\u001b[1;33m,\u001b[0m \u001b[0mcost\u001b[0m \u001b[1;33m=\u001b[0m \u001b[0mfindBestParameters\u001b[0m\u001b[1;33m(\u001b[0m\u001b[0mbuf_xs\u001b[0m\u001b[1;33m,\u001b[0m \u001b[0mbuf_ys\u001b[0m\u001b[1;33m,\u001b[0m \u001b[0mdefault_thetas\u001b[0m\u001b[1;33m,\u001b[0m \u001b[0malpha\u001b[0m\u001b[1;33m,\u001b[0m \u001b[0miterations\u001b[0m\u001b[1;33m)\u001b[0m\u001b[1;33m\u001b[0m\u001b[0m\n\u001b[0m\u001b[0;32m     81\u001b[0m             \u001b[0mact_thetas\u001b[0m\u001b[1;33m.\u001b[0m\u001b[0mappend\u001b[0m\u001b[1;33m(\u001b[0m\u001b[0mnew_theta\u001b[0m\u001b[1;33m.\u001b[0m\u001b[0mtolist\u001b[0m\u001b[1;33m(\u001b[0m\u001b[1;33m)\u001b[0m\u001b[1;33m)\u001b[0m\u001b[1;33m\u001b[0m\u001b[0m\n\u001b[0;32m     82\u001b[0m             \u001b[0mtotal_cost\u001b[0m\u001b[1;33m+=\u001b[0m\u001b[0mcost\u001b[0m\u001b[1;33m\u001b[0m\u001b[0m\n",
      "\u001b[1;32m<ipython-input-18-b97a6c13bc88>\u001b[0m in \u001b[0;36mfindBestParameters\u001b[1;34m(xs, ys, theta, alpha, iterations)\u001b[0m\n\u001b[0;32m     20\u001b[0m     \u001b[0mxs\u001b[0m \u001b[1;33m=\u001b[0m \u001b[0mx_param_matrix\u001b[0m\u001b[1;33m(\u001b[0m\u001b[0mxs\u001b[0m\u001b[1;33m)\u001b[0m\u001b[1;33m\u001b[0m\u001b[0m\n\u001b[0;32m     21\u001b[0m     \u001b[1;32mfor\u001b[0m \u001b[0mii\u001b[0m \u001b[1;32min\u001b[0m \u001b[0mrange\u001b[0m\u001b[1;33m(\u001b[0m\u001b[0miterations\u001b[0m\u001b[1;33m)\u001b[0m\u001b[1;33m:\u001b[0m\u001b[1;33m\u001b[0m\u001b[0m\n\u001b[1;32m---> 22\u001b[1;33m         \u001b[0msig\u001b[0m \u001b[1;33m=\u001b[0m \u001b[0msigmoid\u001b[0m\u001b[1;33m(\u001b[0m\u001b[0mxs\u001b[0m \u001b[1;33m@\u001b[0m \u001b[0mtheta\u001b[0m\u001b[1;33m)\u001b[0m\u001b[1;33m\u001b[0m\u001b[0m\n\u001b[0m\u001b[0;32m     23\u001b[0m         \u001b[0mbuf\u001b[0m \u001b[1;33m=\u001b[0m \u001b[1;33m(\u001b[0m\u001b[0msig\u001b[0m \u001b[1;33m-\u001b[0m \u001b[0mys\u001b[0m\u001b[1;33m)\u001b[0m \u001b[1;33m*\u001b[0m \u001b[0mxs\u001b[0m\u001b[1;33m\u001b[0m\u001b[0m\n\u001b[0;32m     24\u001b[0m         \u001b[0mbuf\u001b[0m \u001b[1;33m=\u001b[0m \u001b[0mnp\u001b[0m\u001b[1;33m.\u001b[0m\u001b[0msum\u001b[0m\u001b[1;33m(\u001b[0m\u001b[0mbuf\u001b[0m\u001b[1;33m,\u001b[0m \u001b[0maxis\u001b[0m \u001b[1;33m=\u001b[0m \u001b[1;36m0\u001b[0m\u001b[1;33m)\u001b[0m\u001b[1;33m\u001b[0m\u001b[0m\n",
      "\u001b[1;31mValueError\u001b[0m: matmul: Input operand 0 does not have enough dimensions (has 0, gufunc core with signature (n?,k),(k,m?)->(n?,m?) requires 1)"
     ]
    }
   ],
   "source": [
    "def separate_data(y_train, y_val):\n",
    "    M = np.unique(y_train).shape[0]\n",
    "    new_ys = list()\n",
    "    for m in range(M):\n",
    "        # train\n",
    "        indexs_t = np.nonzero(y_train == m+1)[0]\n",
    "        buf_t = np.zeros(np.shape(y_train))\n",
    "        buf_t[indexs_t, :] += 1\n",
    "        new_ys.append(buf_t)\n",
    "        \n",
    "        # validation\n",
    "        indexs_v = np.nonzero(y_val == m+1)[0]\n",
    "        buf_v = np.zeros(np.shape(y_val))\n",
    "        buf_v[indexs_v, :] += 1\n",
    "        new_ys.append(buf_v)\n",
    "    return new_ys\n",
    "\n",
    "def findBestParameters(xs, ys, theta, alpha, iterations):    \n",
    "    m = np.shape(xs)[0]\n",
    "    xs = x_param_matrix(xs)\n",
    "    for ii in range(iterations):\n",
    "        sig = sigmoid(xs @ theta)\n",
    "        buf = (sig - ys) * xs\n",
    "        buf = np.sum(buf, axis = 0)\n",
    "        theta = theta - alpha/m*buf.reshape(len(buf), -1)\n",
    "    return theta, cost_function(xs, ys, theta)\n",
    "\n",
    "def x_param_matrix(xs):\n",
    "    m = xs.shape[0]\n",
    "    x1 = xs[:, 0].reshape((m,1))\n",
    "    x2 = xs[:, 1].reshape((m,1))\n",
    "    ones = np.ones((m,1))\n",
    "    res = np. concatenate((ones,x1,x2,x1*x2), axis=1)\n",
    "    \n",
    "def x_param_matrix_interpreter(xs, polynomial):\n",
    "    m = xs.shape[0]\n",
    "    x1 = xs[:, 0].reshape((m,1))\n",
    "    x2 = xs[:, 1].reshape((m,1))\n",
    "    print(polynomial)\n",
    "    \n",
    "def sigmoid(z):\n",
    "    return 1/(1+math.e**(-z))\n",
    "    \n",
    "def cost_function(xs, ys, theta):\n",
    "    m = np.shape(xs)[0]\n",
    "    sig = sigmoid(xs @ theta)\n",
    "    return -1/m*np.sum(ys * np.log(sig) + (1 - ys) * np.log(1 - sig))    \n",
    "\n",
    "def logistic_regression(train_data, val_data):\n",
    "    # data\n",
    "    x1_train = train_data['x1']\n",
    "    x2_train = train_data['x2']\n",
    "    x_train = np.concatenate((x1_train, x2_train), axis=1)\n",
    "    y_train = train_data['y']\n",
    "    x1_val = val_data['x1']\n",
    "    x2_val = val_data['x2']\n",
    "    x_val = np.concatenate((x1_val, x2_val), axis=1)\n",
    "    y_val = val_data['y']\n",
    "    N1 = x1_val.shape[0]\n",
    "    N2 = x1_train.shape[0]\n",
    "    model_selection_lr(x_train, y_train, x_val, y_val)\n",
    "    \n",
    "def model_selection_lr(x_train, y_train, x_val, y_val):\n",
    "    default_thetas = np.array([[0]]*4)\n",
    "    alpha = 0.0001\n",
    "    iterations = 20000\n",
    "    polynomials = [\"0 1 2\", \"0 1 2 12\", \"0 11 2\", \"0 1 22\", \"0 11 22\"]\n",
    "    polynomials = [\"0 1 2\"]\n",
    "    costs = list()\n",
    "    precs = list()\n",
    "    separated = separate_data(y_train, y_val)\n",
    "    \n",
    "    for poly in polynomials:\n",
    "        act_theta = list()\n",
    "        for i in range(int(len(separated)/2)):\n",
    "            tr_ix = np.nonzero(1 == separated[i*2])[0]\n",
    "            buf_xs = x_train[tr_ix,:]\n",
    "            buf_ys = y_train[tr_ix,:]\n",
    "            buf_ys[buf_ys > 0] = 1\n",
    "            new_theta, cost = findBestParameters(x_param_matrix(buf_xs), buf_ys, default_thetas, alpha, iterations)\n",
    "            act_thetas.append(new_theta.tolist())\n",
    "            total_cost+=cost\n",
    "        \n",
    "        act_thetas = np.array(act_thetas)[:,:,0].T\n",
    "        prediction = sigmoid(x_param_matrix(x_train) @ act_thetas)\n",
    "        maxs = np.argmax(prediction, axis=1)\n",
    "        prediction = maxs.reshape((y_train.shape[0], 1)) + 1\n",
    "        prec = np.count_nonzero((y_train == prediction) == 0) / y_train.shape[0]\n",
    "        print(f\"polynomial: {poly} -> {1 - prec}\")\n",
    "        \n",
    "def calculate_precision_for():\n",
    "    pass\n",
    "\n",
    "\n",
    "\n",
    "N_v = 20\n",
    "N_t = 1000\n",
    "logistic_regression(standard_data_generator(N_t, 0.7), standard_data_generator(N_v, 0.6))\n",
    "    "
   ]
  },
  {
   "cell_type": "markdown",
   "metadata": {},
   "source": [
    "# -------------------------------------- Plot #1 Settings--------------------------------------\n",
    "### Training Data"
   ]
  },
  {
   "cell_type": "code",
   "execution_count": 8,
   "metadata": {},
   "outputs": [],
   "source": [
    "def plot_training_data_only(data, i, N):\n",
    "    # settings\n",
    "    x1_min = 0\n",
    "    x1_max = 2.01\n",
    "    x2_min = 0\n",
    "    x2_max = 2.01\n",
    "    period = 0.1\n",
    "    sub = fig.add_subplot(3, 2, i)\n",
    "    plt.xlabel(\"X1 Axis\", fontsize=10)\n",
    "    plt.ylabel(\"X2 Axis\", fontsize=10)\n",
    "    plt.xticks(fontsize=10)\n",
    "    plt.yticks(fontsize=10)\n",
    "    sub.set_xlim(x1_min, x1_max)\n",
    "    sub.set_ylim(x2_min, x2_max)\n",
    "    sub.set_xticks(np.arange(x1_min, x1_max, period))\n",
    "    sub.set_yticks(np.arange(x2_min, x2_max, period))\n",
    "    sub.set_title(\"Training Data\", fontsize=12)\n",
    "    \n",
    "    # training data with colors\n",
    "    sub.plot(data['x1'][:N],data['x2'][:N], 'o', color='red')\n",
    "    sub.plot(data['x1'][N:2*N],data['x2'][N:2*N], 'x', color='green')\n",
    "    sub.plot(data['x1'][2*N:3*N],data['x2'][2*N:3*N], '^', color = 'blue')\n",
    "    sub.plot(data['x1'][3*N:],data['x2'][3*N:], 'v', color = 'yellow')"
   ]
  },
  {
   "cell_type": "markdown",
   "metadata": {},
   "source": [
    "# -------------------------------------- Plot #2 Settings--------------------------------------\n",
    "### Validation Data"
   ]
  },
  {
   "cell_type": "code",
   "execution_count": 9,
   "metadata": {},
   "outputs": [],
   "source": [
    "def plot_validation_data(data_t, data_v, i, N_t, N_v):\n",
    "    # settings\n",
    "    x1_min = 0\n",
    "    x1_max = 2.01\n",
    "    x2_min = 0\n",
    "    x2_max = 2.01\n",
    "    period = 0.1\n",
    "    sub = fig.add_subplot(3, 2, i)\n",
    "    plt.xlabel(\"X1 Axis\", fontsize=10)\n",
    "    plt.ylabel(\"X2 Axis\", fontsize=10)\n",
    "    plt.xticks(fontsize=10)\n",
    "    plt.yticks(fontsize=10)\n",
    "    sub.set_xlim(x1_min, x1_max)\n",
    "    sub.set_ylim(x2_min, x2_max)\n",
    "    sub.set_xticks(np.arange(x1_min, x1_max, period))\n",
    "    sub.set_yticks(np.arange(x2_min, x2_max, period))\n",
    "    sub.set_title(\"Validation Data\", fontsize=12)\n",
    "    \n",
    "    # training data\n",
    "    sub.plot(data_t['x1'][:N_t],data_t['x2'][:N_t], 'x', color='gray', markersize = 5)\n",
    "    sub.plot(data_t['x1'][N_t:2*N_t],data_t['x2'][N_t:2*N_t], 'x', color='gray', markersize = 5)\n",
    "    sub.plot(data_t['x1'][2*N_t:3*N_t],data_t['x2'][2*N_t:3*N_t], 'x', color = 'gray', markersize = 5)\n",
    "    sub.plot(data_t['x1'][3*N_t:],data_t['x2'][3*N_t:], 'x', color = 'gray', markersize = 5)\n",
    "    \n",
    "    # validation data\n",
    "    sub.plot(data_v['x1'][:N_v],data_v['x2'][:N_v], 'o', color='red')\n",
    "    sub.plot(data_v['x1'][N_v:2*N_v],data_v['x2'][N_v:2*N_v], 'x', color='green', markersize = 10)\n",
    "    sub.plot(data_v['x1'][2*N_v:3*N_v],data_v['x2'][2*N_v:3*N_v], '^', color = 'blue')\n",
    "    sub.plot(data_v['x1'][3*N_v:],data_v['x2'][3*N_v:], 'v', color = 'yellow')"
   ]
  },
  {
   "cell_type": "markdown",
   "metadata": {},
   "source": [
    "# -------------------------------------- Plot #3 Settings--------------------------------------\n",
    "### kNN - Error Function For Some *k* Values"
   ]
  },
  {
   "cell_type": "code",
   "execution_count": 10,
   "metadata": {},
   "outputs": [],
   "source": [
    "def plot_knn_errors(data_t, data_v, i):\n",
    "    # knn call\n",
    "    min_err, best_k, errs, k_values = count_time(knn, data_t, data_v, \"kNN\")\n",
    "\n",
    "    # settings\n",
    "    sub = fig.add_subplot(3, 2, i)\n",
    "    plt.xlabel(\"*k* Values\", fontsize=10)\n",
    "    plt.ylabel(\"Error Values\", fontsize=10)\n",
    "    plt.xticks(fontsize=10)\n",
    "    plt.yticks(fontsize=10)\n",
    "    sub.set_xlim(min(k_values), max(k_values))\n",
    "    sub.set_ylim(0, 1)\n",
    "    #sub.set_xticks(np.arange(x1_min, x1_max, period))\n",
    "    sub.set_yticks(np.arange(0, 1.01, 0.1))\n",
    "    sub.set_title(f\"kNN Error Function\\nMin. err. = {min_err}\\nBest *k* = {best_k}\", fontsize=12)\n",
    "    sub.plot(k_values, errs)    "
   ]
  },
  {
   "cell_type": "markdown",
   "metadata": {},
   "source": [
    "# -------------------------------------- Plot #4 Settings--------------------------------------\n",
    "### Naive Bayess - Uses Gaussian Distribution"
   ]
  },
  {
   "cell_type": "code",
   "execution_count": 11,
   "metadata": {},
   "outputs": [],
   "source": [
    "def plot_naive_bayess(data_t, data_v, i):\n",
    "    # naive bayess call\n",
    "    error, distri = count_time(naive_bayess, data_t, data_v, \"Naive Bayess\")\n",
    "    labels = np.argmax(distri,axis=1)\n",
    "    \n",
    "    # data segregation\n",
    "    red = list()\n",
    "    red2 = list()\n",
    "    green = list()\n",
    "    green2 = list()\n",
    "    blue = list()\n",
    "    blue2 = list()\n",
    "    yellow = list()\n",
    "    yellow2 = list()\n",
    "    x1_val = data_v['x1']\n",
    "    x2_val = data_v['x2']\n",
    "    y_val = data_v['y']\n",
    "    N = x1_val.shape[0]\n",
    "    for n in range(N):\n",
    "        if labels[n] == 0:\n",
    "            red.append(x1_val[n,0])\n",
    "            red2.append(x2_val[n,0])\n",
    "        elif labels[n] == 1:\n",
    "            green.append(x1_val[n,0])\n",
    "            green2.append(x2_val[n,0])\n",
    "        elif labels[n] == 2:\n",
    "            blue.append(x1_val[n,0])\n",
    "            blue2.append(x2_val[n,0])\n",
    "        elif labels[n] == 3:\n",
    "            yellow.append(x1_val[n,0])\n",
    "            yellow2.append(x2_val[n,0])\n",
    "\n",
    "    # settings\n",
    "    x1_min = 0\n",
    "    x1_max = 2.01\n",
    "    x2_min = 0\n",
    "    x2_max = 2.01\n",
    "    period = 0.1\n",
    "    sub = fig.add_subplot(3, 2, i)\n",
    "    plt.xlabel(\"X1 Axis\", fontsize=10)\n",
    "    plt.ylabel(\"X2 Axis\", fontsize=10)\n",
    "    plt.xticks(fontsize=10)\n",
    "    plt.yticks(fontsize=10)\n",
    "    sub.set_xlim(x1_min, x1_max)\n",
    "    sub.set_ylim(x2_min, x2_max)\n",
    "    sub.set_xticks(np.arange(x1_min, x1_max, period))\n",
    "    sub.set_yticks(np.arange(x2_min, x2_max, period))\n",
    "    sub.set_title(f\"Naivee Bayess Prediction\\nError Value: {error}\", fontsize=12)\n",
    "    \n",
    "    # training data\n",
    "    sub.plot(np.array(red), np.array(red2), 'o', color='red')\n",
    "    sub.plot(np.array(green), np.array(green2), 'x', color='green')\n",
    "    sub.plot(np.array(blue), np.array(blue2), '^', color = 'blue')\n",
    "    sub.plot(np.array(yellow), np.array(yellow2), 'v', color = 'yellow')\n",
    "    \n",
    "    \n",
    "    # displayg the ones that were wrong predicted\n",
    "    true_ys = data_v[\"y\"]\n",
    "    all_xs = np.concatenate((data_v[\"x1\"], data_v[\"x2\"]), axis=1)\n",
    "    indexes = np.nonzero(labels != (true_ys.T-1))[1]\n",
    "    diff = all_xs[indexes, :]\n",
    "    sub.plot(diff[:,0], diff[:,1], 'o', color = 'black',fillstyle='none',markersize=20)"
   ]
  },
  {
   "cell_type": "markdown",
   "metadata": {},
   "source": [
    "# -------------------------------------- Plot #5 Settings--------------------------------------\n",
    "### Logicla Regression + Gradient Descent"
   ]
  },
  {
   "cell_type": "code",
   "execution_count": null,
   "metadata": {},
   "outputs": [],
   "source": []
  },
  {
   "cell_type": "markdown",
   "metadata": {},
   "source": [
    "# ------------------------------------------- All Plots -------------------------------------------"
   ]
  },
  {
   "cell_type": "code",
   "execution_count": 12,
   "metadata": {
    "scrolled": false
   },
   "outputs": [
    {
     "name": "stdout",
     "output_type": "stream",
     "text": [
      "Time for: kNN => 2.3200510999999997s\n",
      "Time for: Naive Bayess => 0.0009924000000003375s\n"
     ]
    },
    {
     "data": {
      "image/png": "[encoded data removed]",
      "text/plain": [
       "<Figure size 1080x1440 with 4 Axes>"
      ]
     },
     "metadata": {
      "needs_background": "light"
     },
     "output_type": "display_data"
    }
   ],
   "source": [
    "N_v = 20\n",
    "N_t = 60\n",
    "training_data = standard_data_generator(N_t, 0.7)\n",
    "validation_data = standard_data_generator(N_v, 0.6)\n",
    "fig = plt.figure(figsize=(15, 20))\n",
    "plot_training_data_only(training_data, 1, N_t)\n",
    "plot_validation_data(training_data, validation_data, 2, N_t, N_v)\n",
    "plot_knn_errors(training_data, validation_data, 3)\n",
    "plot_naive_bayess(training_data, validation_data, 4)\n",
    "plt.tight_layout()\n",
    "plt.draw()"
   ]
  },
  {
   "cell_type": "markdown",
   "metadata": {},
   "source": [
    "# -------------------------------------------UnitTests -------------------------------------------"
   ]
  },
  {
   "cell_type": "code",
   "execution_count": 13,
   "metadata": {},
   "outputs": [],
   "source": [
    "x1_train = np.array([[1],[1],[4],[2],[2],[-2],[-2],[-3],[-1],[-2]])\n",
    "x2_train = np.array([[1],[2],[3],[2],[1],[1],[0],[1],[-1],[-2]])\n",
    "y_train = np.array([[1]]*3 + [[2]]*3 + [[3]]*4)\n",
    "x1_val = np.array([[3],[4],[1],[-1],[-1]])\n",
    "x2_val = np.array([[1],[1],[0],[1],[0]])\n",
    "y_val = np.array([[1]]*1 + [[2]]*1 + [[3]]*3)\n",
    "N1 = 5\n",
    "N2 = 10\n",
    "\n",
    "def clac(x1v, x2v, x1t, x2t):\n",
    "    return math.sqrt((x1v-x1t)**2 + (x2v - x2t)**2)\n",
    "\n",
    "def expected_dists():\n",
    "    expected = list()\n",
    "    for v in range(N1):\n",
    "        x1v = x1_val[v, 0]\n",
    "        x2v = x2_val[v, 0]\n",
    "        expected.append([clac(x1v,x2v,x1_train[t, 0],x2_train[t, 0]) for t in range(N2)])\n",
    "    return np.array(expected)\n",
    "    \n",
    "class ModelsTests(unittest.TestCase):\n",
    "    \n",
    "    def test_knn_calculate_distance(self):\n",
    "        answer = calculate_distance(x1_val.copy(), x2_val.copy(), x1_train.copy(), x2_train.copy())\n",
    "        expected = expected_dists()\n",
    "        self.assertEqual(expected.tolist(), answer.tolist())\n",
    "        \n",
    "    def test_knn_sort_distances(self):\n",
    "        answer = sort_distances(expected_dists(), y_train)\n",
    "        self.assertEqual((N1, N2), answer.shape)\n",
    "\n",
    "    def test_nb_a_priori(self):\n",
    "        answer = a_prioi(y_train.copy())\n",
    "        expected = np.array([0.3,0.3, 0.4])\n",
    "        self.assertEqual(expected.tolist(),answer.tolist())\n",
    "\n",
    "    def test_nb_means(self):\n",
    "        #answer = calculate_means(x1_train.copy(), x2_train.copy(), y_train.copy())\n",
    "        #expected = np.array([[2.0, 0.6666666666666666, -2.0], [2.0, 1.3333333333333333, -0.5]])\n",
    "        #self.assertEqual(expected.tolist(),answer.tolist())\n",
    "        pass\n",
    "        \n",
    "    def test_nb_variance(self):\n",
    "        #answer = calculate_variance(x1_train.copy(), x2_train.copy(), y_train.copy())\n",
    "        #expected = np.array([[1.2, 0.4],[0.56, 1.36]])\n",
    "        #self.assertEqual(expected.tolist(),answer.tolist())\n",
    "        pass\n",
    "    \n",
    "    def test_nb_distr(self):\n",
    "        #mean = calculate_means(x1_train.copy(), x2_train.copy(), y_train.copy())\n",
    "        #variance = calculate_variance(x1_train.copy(), x2_train.copy(), y_train.copy())\n",
    "        #answer = distr(x1_train.copy(), x2_train.copy(), mean, variance)\n",
    "        #expected = np.array([0,0,0,0])\n",
    "        #self.assertEqual(expected.tolist(),answer.tolist())\n",
    "        pass"
   ]
  },
  {
   "cell_type": "code",
   "execution_count": 14,
   "metadata": {},
   "outputs": [
    {
     "name": "stderr",
     "output_type": "stream",
     "text": [
      "test_knn_calculate_distance (__main__.ModelsTests) ... ok\n",
      "test_knn_sort_distances (__main__.ModelsTests) ... ok\n",
      "test_nb_a_priori (__main__.ModelsTests) ... ok\n",
      "test_nb_distr (__main__.ModelsTests) ... ok\n",
      "test_nb_means (__main__.ModelsTests) ... ok\n",
      "test_nb_variance (__main__.ModelsTests) ... ok\n",
      "\n",
      "----------------------------------------------------------------------\n",
      "Ran 6 tests in 0.005s\n",
      "\n",
      "OK\n"
     ]
    },
    {
     "data": {
      "text/plain": [
       "<unittest.main.TestProgram at 0x19619ac60f0>"
      ]
     },
     "execution_count": 14,
     "metadata": {},
     "output_type": "execute_result"
    }
   ],
   "source": [
    "unittest.main(argv=[''], verbosity=2, exit=False)"
   ]
  },
  {
   "cell_type": "code",
   "execution_count": 15,
   "metadata": {},
   "outputs": [
    {
     "name": "stdout",
     "output_type": "stream",
     "text": [
      "[[1]\n",
      " [2]\n",
      " [3]\n",
      " [4]\n",
      " [5]] [[ 6]\n",
      " [ 7]\n",
      " [ 8]\n",
      " [ 9]\n",
      " [10]]\n",
      "[[ 1.  1.  6.  6.]\n",
      " [ 1.  2.  7. 14.]\n",
      " [ 1.  3.  8. 24.]\n",
      " [ 1.  4.  9. 36.]\n",
      " [ 1.  5. 10. 50.]]\n"
     ]
    }
   ],
   "source": [
    "def conc(xs):\n",
    "    m = xs.shape[0]\n",
    "    x1 = xs[:, 0].reshape((m,1))\n",
    "    x2 = xs[:, 1].reshape((m,1))\n",
    "    ones = np.ones((m,1))\n",
    "    res = np. concatenate((ones,x1,x2,x1*x2), axis=1)\n",
    "    print(res)\n",
    "    \n",
    "a = np.array([1,2,3,4,5]).reshape((5,1))\n",
    "b = np.array([6,7,8,9,10]).reshape((5,1))\n",
    "print(a, b)\n",
    "\n",
    "conc(np.concatenate((a,b), axis=1))\n"
   ]
  },
  {
   "cell_type": "code",
   "execution_count": null,
   "metadata": {},
   "outputs": [],
   "source": []
  }
 ],
 "metadata": {
  "kernelspec": {
   "display_name": "Python 3",
   "language": "python",
   "name": "python3"
  },
  "language_info": {
   "codemirror_mode": {
    "name": "ipython",
    "version": 3
   },
   "file_extension": ".py",
   "mimetype": "text/x-python",
   "name": "python",
   "nbconvert_exporter": "python",
   "pygments_lexer": "ipython3",
   "version": "3.7.0"
  }
 },
 "nbformat": 4,
 "nbformat_minor": 4
}

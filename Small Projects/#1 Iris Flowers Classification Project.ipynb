{
 "cells": [
  {
   "cell_type": "markdown",
   "metadata": {},
   "source": [
    "# Imports and Other Settings"
   ]
  },
  {
   "cell_type": "code",
   "execution_count": 1,
   "metadata": {},
   "outputs": [
    {
     "name": "stdout",
     "output_type": "stream",
     "text": [
      "Device mapping:\n",
      "/job:localhost/replica:0/task:0/device:XLA_CPU:0 -> device: XLA_CPU device\n",
      "/job:localhost/replica:0/task:0/device:GPU:0 -> device: 0, name: GeForce GTX 980, pci bus id: 0000:26:00.0, compute capability: 5.2\n",
      "/job:localhost/replica:0/task:0/device:XLA_GPU:0 -> device: XLA_GPU device\n",
      "\n"
     ]
    }
   ],
   "source": [
    "import tensorflow as tf\n",
    "from tensorflow.keras import datasets, layers, models\n",
    "from tensorflow import keras\n",
    "from tensorflow.keras.callbacks import TensorBoard\n",
    "import matplotlib.pyplot as plt\n",
    "import numpy as np\n",
    "import pandas as pd\n",
    "sess = tf.compat.v1.Session(config=tf.compat.v1.ConfigProto(allow_soft_placement=True, log_device_placement=True))\n",
    "#tf.compat.v1.logging.set_verbosity(tf.compat.v1.logging.INFO)\n",
    "tf.compat.v1.logging.set_verbosity(tf.compat.v1.logging.ERROR)"
   ]
  },
  {
   "cell_type": "markdown",
   "metadata": {},
   "source": [
    "# Get The Data"
   ]
  },
  {
   "cell_type": "code",
   "execution_count": 2,
   "metadata": {},
   "outputs": [],
   "source": [
    "def get_split_and_shuffle_the_data(name, url, train_size, val_size, shuffles, column_names):\n",
    "    '''\n",
    "    It downloads data from given URL, read it\n",
    "    shuffles it and split into training and validation sets\n",
    "    :param name: name of the file to download\n",
    "    :param url: url addressl which is used to download data\n",
    "    :param train_size: percentage of downloaded data,\n",
    "     which will be used as training data\n",
    "    :param val_size: percentage of downloaded data,\n",
    "     which will be used as validation data\n",
    "    :return: training dataset, validation dataset,\n",
    "     training labels, validation labels\n",
    "    '''\n",
    "    # read the data\n",
    "    raw_dataset_path = tf.keras.utils.get_file(name, url)\n",
    "    raw_dataset = pd.read_csv(raw_dataset_path, names=column_names, header=0).sample(frac=1).reset_index(drop=True)\n",
    "    raw_labels = raw_dataset.pop(column_names[-1])\n",
    "    \n",
    "    # split the data\n",
    "    dataset_size = raw_dataset.shape[0]\n",
    "   \n",
    "    train_size = int(train_size / 100 * dataset_size)\n",
    "    val_size = int(val_size / 100 * dataset_size)\n",
    "    train_data = raw_dataset[:train_size]\n",
    "    val_data = raw_dataset[train_size:train_size + val_size]\n",
    "    train_labels = raw_labels[:train_size]\n",
    "    val_labels = raw_labels[train_size:train_size + val_size]\n",
    "    \n",
    "    return train_data, val_data, train_labels, val_labels\n",
    "\n",
    "def replace_labels(dataset, from_label):\n",
    "    '''\n",
    "    Sometimes dataset from Internet contains labels that \n",
    "    are strings. Integers are necessary, so this function\n",
    "    changes these labels into numbers\n",
    "    :param dataset: dataset - labels to replace string content\n",
    "    :param from_label: given labels to replace - we have to know\n",
    "     what to replace\n",
    "    :return: new dataset - labels with integer labels\n",
    "    '''\n",
    "    to_label = tf.range(len(from_label))\n",
    "    new_dataset = dataset\n",
    "    for ii in range(len(from_label)):\n",
    "        new_dataset[new_dataset == from_label[ii]] = to_label[ii]\n",
    "    new_dataset = new_dataset.astype(\"int64\")\n",
    "    return new_dataset"
   ]
  },
  {
   "cell_type": "code",
   "execution_count": 3,
   "metadata": {
    "scrolled": false
   },
   "outputs": [],
   "source": [
    "NAME = \"iris.data\"\n",
    "URL = \"https://archive.ics.uci.edu/ml/machine-learning-databases/iris/iris.data\"\n",
    "TRAIN_SIZE = 80\n",
    "VAL_SIZE = 20\n",
    "SHUFFLES = 1000\n",
    "COLUMN_NAMES = ['SepalLength', 'SepalWidth', 'PetalLength', 'PetalWidth', 'Species']\n",
    "\n",
    "train_data, val_data, train_labels, val_labels = get_split_and_shuffle_the_data(\n",
    "    NAME, URL, TRAIN_SIZE, VAL_SIZE, SHUFFLES, COLUMN_NAMES)\n",
    "\n",
    "train_labels = replace_labels(train_labels, [\"Iris-setosa\", \"Iris-versicolor\", \"Iris-virginica\"])\n",
    "val_labels = replace_labels(val_labels, [\"Iris-setosa\", \"Iris-versicolor\", \"Iris-virginica\"])"
   ]
  },
  {
   "cell_type": "markdown",
   "metadata": {},
   "source": [
    "## DNNClassifier ▶"
   ]
  },
  {
   "cell_type": "code",
   "execution_count": 4,
   "metadata": {
    "scrolled": false
   },
   "outputs": [],
   "source": [
    "def provide_input_data_as_minibatches(features, labels, batch_size, training):\n",
    "    '''\n",
    "    Function that will return data as batches for dnnclassifier\n",
    "    :param features: data to learn on / validate on / test on\n",
    "    :param labels: just labels\n",
    "    :param batch_size: size of the batch\n",
    "    :param training: if this is trainig, then dataset\n",
    "     have to be shuffled enough\n",
    "    :return: dataset into batches\n",
    "    '''\n",
    "    dataset = tf.data.Dataset.from_tensor_slices((dict(features), labels))\n",
    "    if training:\n",
    "        dataset = dataset.shuffle(1000).repeat()\n",
    "    return dataset.batch(batch_size)\n",
    "\n",
    "def get_the_features(dataset):\n",
    "    '''\n",
    "    Extract features from given dataset\n",
    "    :param features: given dataset\n",
    "    :return: list of features\n",
    "    '''\n",
    "    return [tf.feature_column.numeric_column(key=key) for key in dataset.keys()]\n",
    "\n",
    "def create_dnnclassifier(layers_list, classes):\n",
    "    '''\n",
    "    DNNClassifier generator\n",
    "    :param layers_list: list of all layers density/size\n",
    "    :param classes: number of classes / unique labels\n",
    "    :return: dnnclassifier\n",
    "    '''\n",
    "    feature_columns = get_the_features(train_data)\n",
    "    classifier = tf.estimator.DNNClassifier(\n",
    "        feature_columns=feature_columns,\n",
    "        hidden_units=layers_list,\n",
    "        n_classes=classes,\n",
    "        model_dir='./logs/dnnclassifier')\n",
    "    return classifier\n",
    "\n",
    "def train_dnnclassifier(classifier, input_fn, train_data, train_labels, batch_size, steps):\n",
    "    '''\n",
    "    This function calls DNNCLassifier training - lerning\n",
    "    :param classifier: given dnnclassifier\n",
    "    :param input_fn: given function, that returns data as batches\n",
    "    :param train_data: given training data\n",
    "    :param train_labels: given training labels\n",
    "    :param batch_size: size of the batch\n",
    "    :param steps: number of steps for algorithm\n",
    "    '''\n",
    "    classifier.train(\n",
    "    input_fn=lambda: input_fn(train_data, train_labels, batch_size, True),\n",
    "    steps=steps)\n",
    "    \n",
    "def evaluate_dnnclassifier(classifier, input_fn, val_data, val_labels, batch_size):\n",
    "    '''\n",
    "    This function calls DNNCLassifier evaluation - checking\n",
    "    :param classifier: given dnnclassifier\n",
    "    :param input_fn: given function, that returns data as batches\n",
    "    :param val_data: given validation data\n",
    "    :param val_labels: given validation labels\n",
    "    :param batch_size: size of the batch\n",
    "    :return: results of evaluation (loss, accuracy)\n",
    "    '''\n",
    "    result = classifier.evaluate(input_fn=lambda: input_fn(train_data, train_labels, batch_size, False))\n",
    "    return result"
   ]
  },
  {
   "cell_type": "code",
   "execution_count": 5,
   "metadata": {
    "scrolled": false
   },
   "outputs": [],
   "source": [
    "LAYERS = [30,10]\n",
    "CLASSES = 3\n",
    "BATCH_SIZE = 32\n",
    "STEPS = 5000 \n",
    "classifier = create_dnnclassifier(LAYERS, CLASSES)\n",
    "train_dnnclassifier(classifier, provide_input_data_as_minibatches, train_data, train_labels, BATCH_SIZE, STEPS)"
   ]
  },
  {
   "cell_type": "code",
   "execution_count": 6,
   "metadata": {},
   "outputs": [
    {
     "name": "stdout",
     "output_type": "stream",
     "text": [
      "\\Eval set accuracy: 0.950\n",
      "\n"
     ]
    }
   ],
   "source": [
    "result = evaluate_dnnclassifier(classifier, provide_input_data_as_minibatches, val_data, val_labels, BATCH_SIZE)\n",
    "print('\\Eval set accuracy: {accuracy:0.3f}\\n'.format(**result))"
   ]
  },
  {
   "cell_type": "markdown",
   "metadata": {},
   "source": [
    "## As Simple As Possible Neural Network ▶"
   ]
  },
  {
   "cell_type": "code",
   "execution_count": 7,
   "metadata": {},
   "outputs": [],
   "source": [
    "tensorboard = TensorBoard(log_dir=\"logs/{}\".format(\"As Simple As Possible Neural Network\"))\n",
    "asap_nn = keras.Sequential([\n",
    "    keras.layers.Dense(128, activation='relu'),\n",
    "    keras.layers.Dense(128, activation='relu'),\n",
    "    keras.layers.Dense(3, activation='softmax')\n",
    "])"
   ]
  },
  {
   "cell_type": "code",
   "execution_count": 8,
   "metadata": {},
   "outputs": [],
   "source": [
    "asap_nn.compile(optimizer='adam',\n",
    "              loss='sparse_categorical_crossentropy',\n",
    "              metrics=['accuracy'])"
   ]
  },
  {
   "cell_type": "code",
   "execution_count": 9,
   "metadata": {
    "scrolled": false
   },
   "outputs": [
    {
     "data": {
      "text/plain": [
       "<tensorflow.python.keras.callbacks.History at 0x2169375c888>"
      ]
     },
     "execution_count": 9,
     "metadata": {},
     "output_type": "execute_result"
    }
   ],
   "source": [
    "asap_nn.fit(train_data, train_labels, epochs=15, batch_size=32, callbacks=[tensorboard], verbose=0)  "
   ]
  },
  {
   "cell_type": "code",
   "execution_count": 10,
   "metadata": {},
   "outputs": [
    {
     "name": "stdout",
     "output_type": "stream",
     "text": [
      "Eval set accuracy: 1.000\n"
     ]
    }
   ],
   "source": [
    "eval_loss, eval_acc = asap_nn.evaluate(val_data, val_labels, verbose=0)\n",
    "print(\"Eval set accuracy: {0:0.3f}\".format(eval_acc))"
   ]
  },
  {
   "cell_type": "markdown",
   "metadata": {},
   "source": [
    "## Interactive Predictions"
   ]
  },
  {
   "cell_type": "code",
   "execution_count": 11,
   "metadata": {
    "scrolled": false
   },
   "outputs": [],
   "source": [
    "features = ['Sepal Length', 'Sepal Width', 'Petal Length', 'Petal Width']\n",
    "spieces =  [\"Iris Setosa\", \"Iris Versicolor\", \"Iris Virginica\"]\n",
    "columns = ['SepalLength' , 'SepalWidth', 'PetalLength', 'PetalWidth']\n",
    "my_features = [-1]*len(features)\n",
    "\n",
    "def predict(model):\n",
    "    '''\n",
    "    This function asks user for 4 different features of Irises,\n",
    "    and then tries to predict label for such dataset by using given model\n",
    "    :param classifier: model to predict on\n",
    "    '''\n",
    "    for ii in range(len(features)):\n",
    "        buf = float(input(f\"{features[ii]}: \"))\n",
    "        my_features[ii] = buf\n",
    "    feats = tuple(i for i in my_features)\n",
    "    feats_list = list()\n",
    "    feats_list.append(feats)\n",
    "    res = model.predict(pd.DataFrame(feats_list, columns = columns))\n",
    "    print(\"This Iris is probably:{0:} {1:0.5f}%\".format(spieces[np.argmax(res)], np.max(res)))"
   ]
  },
  {
   "cell_type": "code",
   "execution_count": 12,
   "metadata": {},
   "outputs": [
    {
     "name": "stdout",
     "output_type": "stream",
     "text": [
      "Sepal Length: 5\n",
      "Sepal Width: 2\n",
      "Petal Length: 1\n",
      "Petal Width: 0\n",
      "This Iris is probably:Iris Setosa 0.94448%\n"
     ]
    }
   ],
   "source": [
    "predict(asap_nn)"
   ]
  },
  {
   "cell_type": "markdown",
   "metadata": {},
   "source": [
    "## Models Comparison "
   ]
  },
  {
   "cell_type": "code",
   "execution_count": 13,
   "metadata": {},
   "outputs": [],
   "source": [
    "def display_loss(loss, linestyle, i, bottom_tittle, top_tittle):\n",
    "    '''\n",
    "    Displays loss values for each model\n",
    "    :param loss: dataset to display\n",
    "    :param linestyle: color and style of the line\n",
    "    :param i: number of plot's positioin at figure\n",
    "    :param bottom_tittle: x axis tittle\n",
    "    :param top_tittle: plot's tittle \n",
    "    '''\n",
    "    x = loss.values[:,1]\n",
    "    y = loss.values[:,2]\n",
    "    x_min = 0\n",
    "    if np.max(x)>1000:\n",
    "        x_max = int(np.ceil(np.max(x) / 1000.0) * 1000)\n",
    "    elif np.max(x)>100:\n",
    "        x_max = int(np.ceil(np.max(x) / 100.0) * 100)\n",
    "    elif np.max(x)>10:\n",
    "        x_max = int(np.ceil(np.max(x) / 10.0) * 10)\n",
    "    else:\n",
    "        x_max = int(np.ceil(np.max(x)))\n",
    "    y_min = 0\n",
    "    y_max = 1\n",
    "    sub = fig.add_subplot(1, 2, i)\n",
    "    plt.xlabel(bottom_tittle, fontsize=10)\n",
    "    plt.ylabel(\"Loss\", fontsize=10)\n",
    "    plt.xticks(fontsize=10)\n",
    "    plt.yticks(fontsize=10)\n",
    "    sub.set_xlim(x_min, x_max)\n",
    "    sub.set_ylim(y_min, y_max)\n",
    "    sub.set_title(top_tittle)\n",
    "    sub.plot(x, y, linestyle)\n",
    "    sub.grid()"
   ]
  },
  {
   "cell_type": "code",
   "execution_count": 14,
   "metadata": {
    "scrolled": false
   },
   "outputs": [
    {
     "data": {
      "image/png": "[encoded data removed]",
      "text/plain": [
       "<Figure size 864x432 with 2 Axes>"
      ]
     },
     "metadata": {},
     "output_type": "display_data"
    }
   ],
   "source": [
    "dnnclassifier_loss = raw_dataset = pd.read_csv(\"logs/dnnclassifier_loss.csv\")\n",
    "asap_epoch_loss = raw_dataset = pd.read_csv(\"logs/asap_epoch_loss.csv\")\n",
    "fig = plt.figure(figsize=(12, 6))\n",
    "display_loss(dnnclassifier_loss, '-b', 1, \"Steps\", \"DNNClassifier\")\n",
    "display_loss(asap_epoch_loss, '-r', 2, \"Epochs\", \"Asap Neural Network\")\n",
    "plt.tight_layout()\n",
    "plt.draw()"
   ]
  }
 ],
 "metadata": {
  "kernelspec": {
   "display_name": "Python 3.7.5 64-bit",
   "language": "python",
   "name": "python37564bit1e6aed807c75400196b9258b674bf9d9"
  },
  "language_info": {
   "codemirror_mode": {
    "name": "ipython",
    "version": 3
   },
   "file_extension": ".py",
   "mimetype": "text/x-python",
   "name": "python",
   "nbconvert_exporter": "python",
   "pygments_lexer": "ipython3",
   "version": "3.7.5"
  }
 },
 "nbformat": 4,
 "nbformat_minor": 4
}
